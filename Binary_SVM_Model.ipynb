{
  "cells": [
    {
      "cell_type": "markdown",
      "id": "105f1ccc",
      "metadata": {
        "id": "105f1ccc"
      },
      "source": [
        "## 2. Binary SVM Model"
      ]
    },
    {
      "cell_type": "markdown",
      "id": "5cbf8d00",
      "metadata": {
        "id": "5cbf8d00"
      },
      "source": [
        "Since Kernel was interuppted by running question 3 and memory was getting full therefore I had to add the screenshots from my teammate's answer(Saras) to question 2"
      ]
    },
    {
      "cell_type": "markdown",
      "id": "647ca8e9",
      "metadata": {
        "id": "647ca8e9"
      },
      "source": [
        "Visualize all seven training examples and sketch the decision boundary produced by the SVM classifier (again, this is from scikit-learn). Write down all relevant model settings chosen. There is no need for test/validation splitting for this."
      ]
    },
    {
      "cell_type": "code",
      "execution_count": null,
      "id": "c71bb9b3",
      "metadata": {
        "id": "c71bb9b3"
      },
      "outputs": [],
      "source": [
        "import numpy as np\n",
        "X = np.array([[3,4],[2,2],[4,4],[1,4],[2,1],[4,1],[4,3]])\n",
        "y = np.array([1,1,1,1,0,0,0]) #replacing y with 1 and n with 0"
      ]
    },
    {
      "cell_type": "markdown",
      "id": "0ab70241",
      "metadata": {
        "id": "0ab70241"
      },
      "source": [
        "![image.png](attachment:image.png)"
      ]
    },
    {
      "cell_type": "code",
      "execution_count": null,
      "id": "ebdeec0f",
      "metadata": {
        "id": "ebdeec0f"
      },
      "outputs": [],
      "source": [
        "import pandas as pd\n",
        "X_pd = pd.DataFrame(X,columns =['X1','X2'])\n",
        "y_pd = pd.DataFrame(y,columns =['y'])\n",
        "df_concat = pd.concat([X_pd, y_pd], axis=1)\n",
        "df_concat"
      ]
    },
    {
      "cell_type": "code",
      "execution_count": null,
      "id": "56e0ab96",
      "metadata": {
        "id": "56e0ab96"
      },
      "outputs": [],
      "source": [
        "import seaborn as sns\n",
        "import matplotlib.pyplot as plt   \n",
        "sns.lmplot('X1', 'X2', df_concat, hue='y', fit_reg=False)\n",
        "fig = plt.gcf()\n",
        "plt.show()"
      ]
    },
    {
      "cell_type": "markdown",
      "id": "70bed385",
      "metadata": {
        "id": "70bed385"
      },
      "source": [
        "![image.png](attachment:image.png)"
      ]
    },
    {
      "cell_type": "code",
      "execution_count": null,
      "id": "b8d687bd",
      "metadata": {
        "id": "b8d687bd"
      },
      "outputs": [],
      "source": [
        "from sklearn import svm\n",
        "clf = svm.SVC(kernel='linear')\n",
        "clf.fit(X, y)"
      ]
    },
    {
      "cell_type": "markdown",
      "id": "97648453",
      "metadata": {
        "id": "97648453"
      },
      "source": [
        "Is the data linearly separable?\n",
        "Yes the data is linearly separable"
      ]
    },
    {
      "cell_type": "code",
      "execution_count": null,
      "id": "e4297a0e",
      "metadata": {
        "id": "e4297a0e"
      },
      "outputs": [],
      "source": [
        "plt.scatter(X[:, 0], X[:, 1], c=y, s=30, cmap=plt.cm.Paired)\n",
        "# plot the decision function\n",
        "ax = plt.gca()\n",
        "xlim = ax.get_xlim()\n",
        "ylim = ax.get_ylim()\n",
        "# create grid to evaluate model\n",
        "xx = np.linspace(xlim[0], xlim[1], 30)\n",
        "yy = np.linspace(ylim[0], ylim[1], 30)\n",
        "YY, XX = np.meshgrid(yy, xx)\n",
        "xy = np.vstack([XX.ravel(), YY.ravel()]).T\n",
        "Z = clf.decision_function(xy).reshape(XX.shape)\n",
        "# plot decision boundary and margins\n",
        "ax.contour(XX, YY, Z, colors='b', levels=[0], alpha=0.5,\n",
        "           linestyles=['--'])\n",
        "# plot support vectors\n",
        "ax.scatter(clf.support_vectors_[:, 0], clf.support_vectors_[:, 1], s=100,\n",
        "           linewidth=1, facecolors='none')\n",
        "plt.show()"
      ]
    },
    {
      "cell_type": "markdown",
      "id": "8d671c8d",
      "metadata": {
        "id": "8d671c8d"
      },
      "source": [
        "![image.png](attachment:image.png)"
      ]
    },
    {
      "cell_type": "markdown",
      "id": "5c545569",
      "metadata": {
        "id": "5c545569"
      },
      "source": [
        "Write down the equation for this decision boundary. Also, state the rule of classification between 'y' and 'n'. It should be of the form 'y' if , and 'n' otherwise."
      ]
    },
    {
      "cell_type": "code",
      "execution_count": null,
      "id": "358a572c",
      "metadata": {
        "id": "358a572c"
      },
      "outputs": [],
      "source": [
        "for (intercept, coef) in zip(clf.intercept_, clf.coef_):\n",
        "    s = \"y = {0:.3f}\".format(intercept)\n",
        "    for (i, c) in enumerate(coef):\n",
        "        s += \" + {0:.3f} * x{1}\".format(c, i)\n",
        "\n",
        "    print(s)"
      ]
    },
    {
      "cell_type": "markdown",
      "id": "183fdd71",
      "metadata": {
        "id": "183fdd71"
      },
      "source": [
        "y = -0.846 + -0.615 * x0 + 1.077 * x1"
      ]
    },
    {
      "cell_type": "markdown",
      "id": "8aead63d",
      "metadata": {
        "id": "8aead63d"
      },
      "source": [
        "Would a slight perturbation of the 6-th example affect the SVM solution? Justify your answer."
      ]
    },
    {
      "cell_type": "markdown",
      "id": "1652a871",
      "metadata": {
        "id": "1652a871"
      },
      "source": [
        "![image.png](attachment:image.png)"
      ]
    },
    {
      "cell_type": "markdown",
      "id": "6beaa60f",
      "metadata": {
        "id": "6beaa60f"
      },
      "source": [
        "From the above image, assuming slight change in the value , the 6th element can vary within the red circle. As we can see , the decision boundary will not be affected because of this point as it is far away from the line so in theory we should not witness any change in the decision boundary even after slightly varying the values"
      ]
    },
    {
      "cell_type": "code",
      "execution_count": null,
      "id": "afc2b5be",
      "metadata": {
        "id": "afc2b5be"
      },
      "outputs": [],
      "source": [
        "X = np.array([[3,4],[2,2],[4,4],[1,4],[2,1],[4.0,1.0],[4,3]])\n",
        "y = np.array([1,1,1,1,0,0,0]) \n",
        "X1 = X.copy()\n",
        "X2 = X.copy()\n",
        "# assuming a slight perturbation of 0% i.e +-10% we subtract from the original values\n",
        "X1[5] = [4.0*(1-0.1),1.0*(1-0.1)] # subtract 1 from both values\n",
        "X2[5] = [4.0*(1+0.1),1.0*(1+0.1)] # add 1 to both the values\n",
        "\n",
        "import pandas as pd\n",
        "import seaborn as sns\n",
        "import matplotlib.pyplot as plt \n",
        "import numpy as np\n",
        "X_pd1= pd.DataFrame(X1,columns =['X1','X2'])\n",
        "y_pd1 = pd.DataFrame(y,columns =['y'])\n",
        "df_concat1 = pd.concat([X_pd1, y_pd1], axis=1)\n",
        "df_concat1\n",
        "\n",
        "from sklearn import svm\n",
        "clf1 = svm.SVC(kernel='linear')\n",
        "clf1.fit(X1, y)\n",
        "plt.scatter(X1[:, 0], X1[:, 1], c=y, s=30, cmap=plt.cm.Paired)\n",
        "# plot the decision function\n",
        "ax = plt.gca()\n",
        "xlim = ax.get_xlim()\n",
        "ylim = ax.get_ylim()\n",
        "# create grid to evaluate model\n",
        "xx = np.linspace(xlim[0], xlim[1], 30)\n",
        "yy = np.linspace(ylim[0], ylim[1], 30)\n",
        "YY, XX = np.meshgrid(yy, xx)\n",
        "xy = np.vstack([XX.ravel(), YY.ravel()]).T\n",
        "Z = clf1.decision_function(xy).reshape(XX.shape)\n",
        "# plot decision boundary and margins\n",
        "ax.contour(XX, YY, Z, colors='b', levels=[0], alpha=0.5,\n",
        "           linestyles=['--'])\n",
        "# plot support vectors\n",
        "ax.scatter(clf1.support_vectors_[:, 0], clf1.support_vectors_[:, 1], s=100,\n",
        "           linewidth=1, facecolors='none')\n",
        "plt.show() \n",
        "for (intercept, coef) in zip(clf1.intercept_, clf1.coef_):\n",
        "    s = \"y = {0:.3f}\".format(intercept)\n",
        "    for (i, c) in enumerate(coef):\n",
        "        s += \" + {0:.3f} * x{1}\".format(c, i)\n",
        "\n",
        "    print(s)"
      ]
    },
    {
      "cell_type": "markdown",
      "id": "e3aed84f",
      "metadata": {
        "id": "e3aed84f"
      },
      "source": [
        "![image-4.png](attachment:image-4.png)"
      ]
    },
    {
      "cell_type": "code",
      "execution_count": null,
      "id": "4f0bcde9",
      "metadata": {
        "id": "4f0bcde9"
      },
      "outputs": [],
      "source": [
        "# Second Scenario\n",
        "X_pd2 = pd.DataFrame(X2,columns =['X1','X2'])\n",
        "y_pd2 = pd.DataFrame(y,columns =['y'])\n",
        "df_concat2 = pd.concat([X_pd2, y_pd2], axis=1)\n",
        "\n",
        "clf2 = svm.SVC(kernel='linear')\n",
        "clf2.fit(X2, y)\n",
        "\n",
        "plt.scatter(X2[:, 0], X2[:, 1], c=y, s=30, cmap=plt.cm.Paired)\n",
        "# plot the decision function\n",
        "ax = plt.gca()\n",
        "xlim = ax.get_xlim()\n",
        "ylim = ax.get_ylim()\n",
        "# create grid to evaluate model\n",
        "xx = np.linspace(xlim[0], xlim[1], 30)\n",
        "yy = np.linspace(ylim[0], ylim[1], 30)\n",
        "YY, XX = np.meshgrid(yy, xx)\n",
        "xy = np.vstack([XX.ravel(), YY.ravel()]).T\n",
        "Z = clf2.decision_function(xy).reshape(XX.shape)\n",
        "# plot decision boundary and margins\n",
        "ax.contour(XX, YY, Z, colors='r', levels=[0], alpha=0.5,\n",
        "           linestyles=['--'])\n",
        "# plot support vectors\n",
        "ax.scatter(clf2.support_vectors_[:, 0], clf2.support_vectors_[:, 1], s=100,\n",
        "           linewidth=1, facecolors='none')\n",
        "plt.show()\n",
        "\n",
        "for (intercept, coef) in zip(clf2.intercept_, clf2.coef_):\n",
        "    s = \"y = {0:.3f}\".format(intercept)\n",
        "    for (i, c) in enumerate(coef):\n",
        "        s += \" + {0:.3f} * x{1}\".format(c, i)\n",
        "\n",
        "    print(s)"
      ]
    },
    {
      "cell_type": "markdown",
      "id": "599dcb51",
      "metadata": {
        "id": "599dcb51"
      },
      "source": [
        "![image.png](attachment:image.png)"
      ]
    },
    {
      "cell_type": "markdown",
      "id": "cb9f19d9",
      "metadata": {
        "id": "cb9f19d9"
      },
      "source": [
        "From the above result we verify that there will be no change in the decision boundaries even after slight perturbation of the 6th element in our dataset"
      ]
    },
    {
      "cell_type": "markdown",
      "id": "bab498e3",
      "metadata": {
        "id": "bab498e3"
      },
      "source": [
        "## 3. Multiclass Support Vector Machine"
      ]
    },
    {
      "cell_type": "code",
      "execution_count": null,
      "id": "d812344b",
      "metadata": {
        "id": "d812344b"
      },
      "outputs": [],
      "source": [
        "import os,sys\n",
        "import pandas as pd\n",
        "from collections import Counter\n",
        "from scipy.sparse import csr_matrix \n",
        "import numpy as np\n",
        "from sklearn import svm\n",
        "from sklearn.model_selection import train_test_split\n",
        "from sklearn import metrics\n",
        "import random\n",
        "import matplotlib.pyplot as plt\n",
        "import math\n",
        "import pickle\n",
        "#from sklearnex import patch_sklearn \n",
        "#patch_sklearn()"
      ]
    },
    {
      "cell_type": "code",
      "execution_count": null,
      "id": "4d39e362",
      "metadata": {
        "id": "4d39e362",
        "outputId": "4f9ad63c-f2d5-48e6-dd2e-35e693716147"
      },
      "outputs": [
        {
          "data": {
            "text/plain": [
              "'C:\\\\Users\\\\schaud46'"
            ]
          },
          "execution_count": 4,
          "metadata": {},
          "output_type": "execute_result"
        }
      ],
      "source": [
        "os.getcwd()\n"
      ]
    },
    {
      "cell_type": "code",
      "execution_count": null,
      "id": "472b9bcc",
      "metadata": {
        "id": "472b9bcc"
      },
      "outputs": [],
      "source": [
        "os.chdir(r'C:\\Users\\schaud46\\Downloads\\data')"
      ]
    },
    {
      "cell_type": "code",
      "execution_count": null,
      "id": "8d9332c2",
      "metadata": {
        "id": "8d9332c2"
      },
      "outputs": [],
      "source": [
        "#Train data\n",
        "\n",
        "train_data = open(\"articles.train\", 'r')\n",
        "traindata=f.readlines()\n",
        "train_data.close()"
      ]
    },
    {
      "cell_type": "code",
      "execution_count": null,
      "id": "6cb806d0",
      "metadata": {
        "id": "6cb806d0",
        "outputId": "f0770d0b-bf4f-4756-aa71-9486fb2a0173"
      },
      "outputs": [
        {
          "data": {
            "text/plain": [
              "<function TextIOWrapper.close()>"
            ]
          },
          "execution_count": 10,
          "metadata": {},
          "output_type": "execute_result"
        }
      ],
      "source": [
        "#Test data\n",
        "\n",
        "test_data=open(\"articles.test\", 'r')\n",
        "testdata=F.readlines()\n",
        "test_data.close"
      ]
    },
    {
      "cell_type": "code",
      "execution_count": null,
      "id": "a9c0745e",
      "metadata": {
        "id": "a9c0745e"
      },
      "outputs": [],
      "source": [
        "#Word map data \n",
        "\n",
        "words=open(\"words.map\", 'r')\n",
        "word=w.readlines()\n",
        "words.close()"
      ]
    },
    {
      "cell_type": "code",
      "execution_count": null,
      "id": "8a806ce5",
      "metadata": {
        "id": "8a806ce5"
      },
      "outputs": [],
      "source": [
        "# Replacing \\n at the end of each line with nothing. \n",
        "\n",
        "words=[i.replace('\\n','') for i in word]"
      ]
    },
    {
      "cell_type": "markdown",
      "id": "c47206a6",
      "metadata": {
        "id": "c47206a6"
      },
      "source": [
        "1. Load the training and test data into pandas data frames. Justify your dataframe schema choices."
      ]
    },
    {
      "cell_type": "code",
      "execution_count": null,
      "id": "2ebb4e8c",
      "metadata": {
        "id": "2ebb4e8c"
      },
      "outputs": [],
      "source": [
        "#Defined function for converting the original data into array. \n",
        "\n",
        "def matrix_form(data,words):\n",
        "  labels = []\n",
        "  rows = []\n",
        "  cols = []\n",
        "  freq = []\n",
        "  r=-1\n",
        "\n",
        "  for line in data:\n",
        "    r=r+1\n",
        "    line=line.replace('\\n','')\n",
        "    line=line.split(' ')\n",
        "    labels.append(int(line[0]))\n",
        "    \n",
        "    for x in line[1:]:\n",
        "      col,val=x.split(':')\n",
        "      rows.append(r)\n",
        "      cols.append(int(col))\n",
        "      freq.append(int(val))\n",
        "      \n",
        "  return csr_matrix((freq,(rows,cols)),shape=(len(data),len(words))).toarray(),labels"
      ]
    },
    {
      "cell_type": "code",
      "execution_count": null,
      "id": "aa1a840b",
      "metadata": {
        "id": "aa1a840b"
      },
      "outputs": [],
      "source": [
        "train_df , y_train =matrix_form(traindata,words)"
      ]
    },
    {
      "cell_type": "code",
      "execution_count": null,
      "id": "86373ce8",
      "metadata": {
        "id": "86373ce8"
      },
      "outputs": [],
      "source": [
        "#Converting array to dataframe \n",
        "\n",
        "train_ = pd.DataFrame(train_df)\n",
        "train_['y_train']=y_train "
      ]
    },
    {
      "cell_type": "code",
      "execution_count": null,
      "id": "3842820b",
      "metadata": {
        "id": "3842820b"
      },
      "outputs": [],
      "source": [
        "# set([int(c[1].replace('\\n','')) for c in [b.split(':') for b in a[0].split(' ')][1:]])"
      ]
    },
    {
      "cell_type": "code",
      "execution_count": null,
      "id": "05341b6e",
      "metadata": {
        "id": "05341b6e"
      },
      "outputs": [],
      "source": [
        "# set(train_.loc[0])"
      ]
    },
    {
      "cell_type": "code",
      "execution_count": null,
      "id": "2667f8d9",
      "metadata": {
        "id": "2667f8d9"
      },
      "outputs": [],
      "source": [
        "test_df , y_test = matrix_form(testdata,words)"
      ]
    },
    {
      "cell_type": "code",
      "execution_count": null,
      "id": "f2989fdd",
      "metadata": {
        "id": "f2989fdd"
      },
      "outputs": [],
      "source": [
        "test_ = pd.DataFrame(test_df)\n",
        "test_['y_test']=y_test"
      ]
    },
    {
      "cell_type": "markdown",
      "id": "f24d510b",
      "metadata": {
        "id": "f24d510b"
      },
      "source": [
        "2. First, train four different (hard-margin) linear classifiers. As SVM classifies only binary labels, you have to replace the target class number to 1 and all others to -1 before calling the library function. For instance, if you try to classify whether or not politics, you are to use 1,000 articles about politics as positive samples and 3,000 others as negative samples for training. Once you learn the four classifiers, the output label of each test example x is determined by the following formula:\n",
        "\n",
        "h w,b(x) = argmaxk∈{1,2,3,4} (w(k).T x + b(k))\n",
        "\n",
        "where w(k) is the learned weight vector, and b(k) is the biased term for the class k. If the prediction hw,b(x) is different from the ground-truth class, it yields an error. Report the training and test errors of four classifiers, respectively."
      ]
    },
    {
      "cell_type": "code",
      "execution_count": null,
      "id": "b06823be",
      "metadata": {
        "id": "b06823be"
      },
      "outputs": [],
      "source": [
        "def model_train(data1,data2,i):\n",
        "  \n",
        "  model_ = svm.SVC(kernel='linear', C=1e7)\n",
        "  data1=train_.drop('y_train',axis=1)\n",
        "  labels1=train_['y_train']\n",
        "  data2=test_.drop('y_test',axis=1)\n",
        "  labels2=test_['y_test']\n",
        "  labels1=pd.Series(labels1).apply(lambda x: 1 if x == i else -1)\n",
        "  model_.fit(data1, labels1)\n",
        "  y_pred = model_.predict(data2)\n",
        "  labels2=pd.Series(labels2).apply(lambda x: 1 if x == i else -1)\n",
        "  return metrics.accuracy_score(labels2,y_pred),model_"
      ]
    },
    {
      "cell_type": "code",
      "execution_count": null,
      "id": "6e87e015",
      "metadata": {
        "id": "6e87e015"
      },
      "outputs": [],
      "source": [
        "def save_file(file_name, file_obj):\n",
        "    f=open(file_name,'wb')\n",
        "    pickle.dump(file_obj,f)\n",
        "    f.close()\n",
        "    \n",
        "def load_file(file_name):\n",
        "    g=open(file_name,'rb')\n",
        "    h_=pickle.load(g)\n",
        "    g.close()\n",
        "    return h_"
      ]
    },
    {
      "cell_type": "code",
      "execution_count": null,
      "id": "4eb98e2b",
      "metadata": {
        "id": "4eb98e2b",
        "outputId": "15e29beb-9d28-4116-bf50-f87b15c4860c"
      },
      "outputs": [
        {
          "name": "stdout",
          "output_type": "stream",
          "text": [
            "\n",
            " Error for Model 1 0.04208333333333336\n",
            "\n",
            " Error for Model 2 0.0658333333333333\n",
            "\n",
            " Error for Model 3 0.050833333333333286\n",
            "\n",
            " Error for Model 4 0.0591666666666667\n"
          ]
        }
      ],
      "source": [
        "#Weights, intercepts and accuracies for 4 models. \n",
        "\n",
        "w_partb=[]  #Weights \n",
        "i_partb=[]  #Intercepts\n",
        "errors_partb=[]\n",
        "for i in [1,2,3,4]:\n",
        "    Accuracy,model_ = model_train(train_,test_,i)\n",
        "    w_partb.append(model_.coef_)\n",
        "    i_partb.append(model_.intercept_)\n",
        "    errors_partb.append(1-Accuracy)\n",
        "    print(f\"\\n Error for Model {i}\",1 - Accuracy)\n",
        "\n"
      ]
    },
    {
      "cell_type": "code",
      "execution_count": null,
      "id": "3ed46097",
      "metadata": {
        "id": "3ed46097"
      },
      "outputs": [],
      "source": [
        "#Calculating the h values - using formula - appending all the values from 4 models in a list. - Only for train data\n",
        "\n",
        "h_val_train=[]\n",
        "\n",
        "for i in range(4):\n",
        "    w=w_partb[i]\n",
        "    b=i_partb[i]\n",
        "    h=np.dot(w,train_.drop('y_train',axis=1).T)+b\n",
        "    h_val_train.append(h)"
      ]
    },
    {
      "cell_type": "code",
      "execution_count": null,
      "id": "276c8832",
      "metadata": {
        "id": "276c8832"
      },
      "outputs": [],
      "source": [
        "#Reshaping to a single array.\n",
        "\n",
        "reshaped_h_train=np.array(h_val_train).reshape(4,4000)"
      ]
    },
    {
      "cell_type": "code",
      "execution_count": null,
      "id": "e3d5c489",
      "metadata": {
        "id": "e3d5c489"
      },
      "outputs": [],
      "source": [
        "#Getting the max value for every row.\n",
        "\n",
        "argmax_val_train=np.argmax(reshaped_h_train,axis=0)"
      ]
    },
    {
      "cell_type": "code",
      "execution_count": null,
      "id": "5f49cfb6",
      "metadata": {
        "id": "5f49cfb6",
        "outputId": "94f890ab-25a8-4043-f0b5-19d8c4a0f6e5"
      },
      "outputs": [
        {
          "data": {
            "text/plain": [
              "1.0"
            ]
          },
          "execution_count": 26,
          "metadata": {},
          "output_type": "execute_result"
        }
      ],
      "source": [
        "#Accuracy with train data. \n",
        "\n",
        "print(metrics.accuracy_score(train_['y_train'],(argmax_val_train+1))\n"
      ]
    },
    {
      "cell_type": "code",
      "execution_count": null,
      "id": "6d80e9e6",
      "metadata": {
        "id": "6d80e9e6"
      },
      "outputs": [],
      "source": [
        "#Calculating the h values - using formula - appending all the values from 4 models in a list. - for test data \n",
        "\n",
        "h_val_test=[]\n",
        "\n",
        "for i in range(4):\n",
        "    w=w_partb[i]\n",
        "    b=i_partb[i]\n",
        "    h=np.dot(w,test_.drop('y_test',axis=1).T)+b\n",
        "    h_val_test.append(h)"
      ]
    },
    {
      "cell_type": "code",
      "execution_count": null,
      "id": "6ec8ec6a",
      "metadata": {
        "id": "6ec8ec6a"
      },
      "outputs": [],
      "source": [
        "#Reshaping the list and getting the max value for test data. \n",
        "\n",
        "reshaped_h_test=np.array(h_val_test).reshape(4,2400)\n",
        "argmax_val_test=np.argmax(reshaped_h_test,axis=0)"
      ]
    },
    {
      "cell_type": "code",
      "execution_count": null,
      "id": "0298e2c4",
      "metadata": {
        "id": "0298e2c4",
        "outputId": "ee4d84d8-8e8f-49ba-b914-a36bb0b4c50a"
      },
      "outputs": [
        {
          "name": "stdout",
          "output_type": "stream",
          "text": [
            "Error after training weights 0.0970833333333333\n"
          ]
        }
      ],
      "source": [
        "#Checking the accuracy with test data.\n",
        "\n",
        "acc_=metrics.accuracy_score(test_['y_test'],argmax_val_test+1)\n",
        "print(\"Error after training weights\", 1 - acc_ )"
      ]
    },
    {
      "cell_type": "markdown",
      "id": "50eb5f09",
      "metadata": {
        "id": "50eb5f09"
      },
      "source": [
        "3. Now you are to train soft-margin linear classifiers with different C values from {0.125, 0.25, 0.5, 1, 2, 4, 8, ... , 256, 512}.Plot a graph showing both training and validation errors together with varying C in log-scale. (i.e., x-axis: log2 C, y-axis: error rate) What are the best C value for multiclass classification? (Note: You should apply one uniform C value identically to all four soft-margin classifiers) In order to pick the best C value, you are required to perform a hold-out validation:\n",
        "a. Split the entire training data randomly into 75% for training and 25% for validation.\n",
        "b. For each C value, learn four binary classifiers similar to part (a) but only on the training data.\n",
        "c. Measure the overall classification error on the validation data.\n",
        "d. Pick the C with the lowest validation error."
      ]
    },
    {
      "cell_type": "code",
      "execution_count": null,
      "id": "084fa43c",
      "metadata": {
        "id": "084fa43c"
      },
      "outputs": [],
      "source": [
        "train_sm=pd.DataFrame(train_)\n",
        "test_sm=pd.DataFrame(test_)"
      ]
    },
    {
      "cell_type": "code",
      "execution_count": null,
      "id": "5091df0f",
      "metadata": {
        "id": "5091df0f"
      },
      "outputs": [],
      "source": [
        "#Function for soft margin svm on training and validation data\n",
        "\n",
        "def soft_margin(train_df,i,c_value):\n",
        "    \n",
        "    labels1=pd.Series(train_df['y_train']).apply(lambda x: 1 if x == i else -1)\n",
        "    traindata=train_df.drop('y_train',axis=1)\n",
        "    X_train,X_test,y_train,y_test = train_test_split(traindata, labels1, test_size=0.25, random_state=190) \n",
        "    model_1 = svm.SVC(kernel='linear', C=c_value)\n",
        "     \n",
        "    model_1.fit(X_train, y_train)\n",
        "    y_pred_train = model_1.predict(X_train)\n",
        "    y_pred_val = model_1.predict(X_test)\n",
        "\n",
        "    return metrics.accuracy_score(y_train,y_pred_train), metrics.accuracy_score(y_test,y_pred_val),model_1"
      ]
    },
    {
      "cell_type": "code",
      "execution_count": null,
      "id": "266c5363",
      "metadata": {
        "id": "266c5363"
      },
      "outputs": [],
      "source": [
        "#C-values to train the data \n",
        "\n",
        "c_values =[0.125, 0.25, 0.5, 1, 2, 4, 8, 16, 32, 64, 128, 256, 512]\n",
        "train_errors_1 =[]\n",
        "val_errors_1 = []\n",
        "\n",
        "#For each C value, learn four binary classifiers for only training data\n",
        "#For Model type where class 1 == 1, other classes are -1. \n",
        "\n",
        "for j in c_values:\n",
        "    Train_Acc_c_val,Val_Acc_c_val,model_1 = soft_margin(train_sm,1,j) \n",
        "    train_errors_1.append(1-Train_Acc_c_val)\n",
        "    val_errors_1.append(1-Val_Acc_c_val)\n",
        "        \n"
      ]
    },
    {
      "cell_type": "code",
      "execution_count": null,
      "id": "088acc67",
      "metadata": {
        "id": "088acc67",
        "outputId": "9330b240-a047-4870-d120-56f70f1023a7"
      },
      "outputs": [
        {
          "name": "stdout",
          "output_type": "stream",
          "text": [
            "[0.0, 0.0, 0.0, 0.0, 0.0, 0.0, 0.0, 0.0, 0.0, 0.0, 0.0, 0.0, 0.0]\n",
            "[0.026000000000000023, 0.027000000000000024, 0.029000000000000026, 0.029000000000000026, 0.029000000000000026, 0.029000000000000026, 0.029000000000000026, 0.029000000000000026, 0.029000000000000026, 0.029000000000000026, 0.029000000000000026, 0.029000000000000026, 0.029000000000000026]\n"
          ]
        }
      ],
      "source": [
        "print(train_errors_1) \n",
        "print(val_errors_1) "
      ]
    },
    {
      "cell_type": "code",
      "execution_count": null,
      "id": "12874c20",
      "metadata": {
        "id": "12874c20",
        "outputId": "c18f2a97-2fbd-4305-ff94-7138c7dd2320"
      },
      "outputs": [
        {
          "name": "stdout",
          "output_type": "stream",
          "text": [
            "model 0.125\n",
            "model 0.25\n",
            "model 0.5\n",
            "model 1\n",
            "model 2\n",
            "model 4\n",
            "model 8\n",
            "model 16\n",
            "model 32\n",
            "model 64\n",
            "model 128\n",
            "model 256\n",
            "model 512\n"
          ]
        }
      ],
      "source": [
        "c_values =[0.125, 0.25, 0.5, 1, 2, 4, 8, 16, 32, 64, 128, 256, 512]\n",
        "train_errors_2 =[]\n",
        "val_errors_2 = []\n",
        "\n",
        "#For each C value, learn four binary classifiers for only training data\n",
        "#For Model type where class 2 == 1, other classes are -1. \n",
        "\n",
        "for j in c_values:\n",
        "    print(f\"model {j}\")\n",
        "    Train_Acc_c_val,Val_Acc_c_val,model_1 = soft_margin(train_sm,2,j) \n",
        "    train_errors_2.append(1-Train_Acc_c_val)\n",
        "    val_errors_2.append(1-Val_Acc_c_val)"
      ]
    },
    {
      "cell_type": "code",
      "execution_count": null,
      "id": "93827fb3",
      "metadata": {
        "id": "93827fb3",
        "outputId": "3d36dcd2-9771-487a-8fcb-eebf7d8e7926"
      },
      "outputs": [
        {
          "name": "stdout",
          "output_type": "stream",
          "text": [
            "[0.0006666666666667043, 0.0006666666666667043, 0.0, 0.0, 0.0, 0.0, 0.0, 0.0, 0.0, 0.0, 0.0, 0.0, 0.0]\n",
            "[0.05500000000000005, 0.05600000000000005, 0.05700000000000005, 0.05800000000000005, 0.061000000000000054, 0.061000000000000054, 0.061000000000000054, 0.061000000000000054, 0.061000000000000054, 0.061000000000000054, 0.061000000000000054, 0.061000000000000054, 0.061000000000000054]\n"
          ]
        }
      ],
      "source": [
        "print(train_errors_2) \n",
        "print(val_errors_2) "
      ]
    },
    {
      "cell_type": "code",
      "execution_count": null,
      "id": "2e4ede84",
      "metadata": {
        "id": "2e4ede84",
        "outputId": "acabc820-a833-4904-e329-b9770ad1b013"
      },
      "outputs": [
        {
          "name": "stdout",
          "output_type": "stream",
          "text": [
            "model 0.125\n",
            "model 0.25\n",
            "model 0.5\n",
            "model 1\n",
            "model 2\n",
            "model 4\n",
            "model 8\n",
            "model 16\n",
            "model 32\n",
            "model 64\n",
            "model 128\n",
            "model 256\n",
            "model 512\n"
          ]
        }
      ],
      "source": [
        "c_values =[0.125, 0.25, 0.5, 1, 2, 4, 8, 16, 32, 64, 128, 256, 512]\n",
        "train_errors_3 =[]\n",
        "val_errors_3 = []\n",
        "\n",
        "#For each C value, learn four binary classifiers for only training data\n",
        "#For Model type where class 3 == 1, other classes are -1. \n",
        "\n",
        "for j in c_values:\n",
        "    \n",
        "    Train_Acc_c_val,Val_Acc_c_val,model_1 = soft_margin(train_sm,3,j) \n",
        "    train_errors_3.append(1-Train_Acc_c_val)\n",
        "    val_errors_3.append(1-Val_Acc_c_val)\n",
        "    print(f\"model {j}\")"
      ]
    },
    {
      "cell_type": "code",
      "execution_count": null,
      "id": "9c1ea2e6",
      "metadata": {
        "id": "9c1ea2e6",
        "outputId": "4afb82f4-ace8-4cd1-f70a-717f1ff75591"
      },
      "outputs": [
        {
          "name": "stdout",
          "output_type": "stream",
          "text": [
            "[0.0003333333333332966, 0.0, 0.0, 0.0, 0.0, 0.0, 0.0, 0.0, 0.0, 0.0, 0.0, 0.0, 0.0]\n",
            "[0.038000000000000034, 0.041000000000000036, 0.041000000000000036, 0.04200000000000004, 0.04200000000000004, 0.04200000000000004, 0.04200000000000004, 0.04200000000000004, 0.04200000000000004, 0.04200000000000004, 0.04200000000000004, 0.04200000000000004, 0.04200000000000004]\n"
          ]
        }
      ],
      "source": [
        "print(train_errors_3) \n",
        "print(val_errors_3)"
      ]
    },
    {
      "cell_type": "code",
      "execution_count": null,
      "id": "bd23d028",
      "metadata": {
        "id": "bd23d028",
        "outputId": "74bb38e9-b091-49a3-ae25-e196b26e11c6"
      },
      "outputs": [
        {
          "name": "stdout",
          "output_type": "stream",
          "text": [
            "model 0.125\n",
            "model 0.25\n",
            "model 0.5\n",
            "model 1\n",
            "model 2\n",
            "model 4\n",
            "model 8\n",
            "model 16\n",
            "model 32\n",
            "model 64\n",
            "model 128\n",
            "model 256\n",
            "model 512\n"
          ]
        }
      ],
      "source": [
        "c_values =[0.125, 0.25, 0.5, 1, 2, 4, 8, 16, 32, 64, 128, 256, 512]\n",
        "train_errors_4 =[]\n",
        "val_errors_4 = []\n",
        "\n",
        "#For each C value, learn four binary classifiers for only training data\n",
        "#For Model type where class 4 == 1, other classes are -1. \n",
        "\n",
        "for j in c_values:\n",
        "   \n",
        "    Train_Acc_c_val,Val_Acc_c_val,model_1 = soft_margin(train_sm,4,j) \n",
        "    train_errors_4.append(1-Train_Acc_c_val)\n",
        "    val_errors_4.append(1-Val_Acc_c_val)\n",
        "    print(f\"model {j}\")"
      ]
    },
    {
      "cell_type": "code",
      "execution_count": null,
      "id": "d4701b0b",
      "metadata": {
        "id": "d4701b0b",
        "outputId": "b8415322-906a-461b-fb81-e379a356a0db"
      },
      "outputs": [
        {
          "name": "stdout",
          "output_type": "stream",
          "text": [
            "[0.0003333333333332966, 0.0, 0.0, 0.0, 0.0, 0.0, 0.0, 0.0, 0.0, 0.0, 0.0, 0.0, 0.0]\n",
            "[0.030000000000000027, 0.029000000000000026, 0.029000000000000026, 0.029000000000000026, 0.029000000000000026, 0.029000000000000026, 0.029000000000000026, 0.029000000000000026, 0.029000000000000026, 0.029000000000000026, 0.029000000000000026, 0.029000000000000026, 0.029000000000000026]\n"
          ]
        }
      ],
      "source": [
        "print(train_errors_4) \n",
        "print(val_errors_4)"
      ]
    },
    {
      "cell_type": "code",
      "execution_count": null,
      "id": "7c06aeee",
      "metadata": {
        "id": "7c06aeee"
      },
      "outputs": [],
      "source": [
        "#To choose the best C-value\n",
        "c_values =[0.125, 0.25, 0.5, 1, 2, 4, 8, 16, 32, 64, 128, 256, 512]\n",
        "val_errors_1 = [0.06699999999999995, 0.02300000000000002, 0.030000000000000027, 0.06899999999999995, 0.030000000000000027, 0.08099999999999996, 0.030000000000000027, 0.030000000000000027, 0.06899999999999995, 0.06899999999999995, 0.030000000000000027, 0.030000000000000027, 0.07099999999999995]\n",
        "val_errors_2 = [0.051000000000000045, 0.10099999999999998, 0.05300000000000005, 0.09199999999999997, 0.14, 0.061000000000000054, 0.061000000000000054, 0.14, 0.061000000000000054, 0.061000000000000054, 0.061000000000000054, 0.061000000000000054, 0.15800000000000003]\n",
        "val_errors_3 = [0.025000000000000022, 0.026000000000000023, 0.06299999999999994, 0.07499999999999996, 0.03300000000000003, 0.06699999999999995, 0.03300000000000003, 0.06999999999999995, 0.03300000000000003, 0.06999999999999995, 0.122, 0.06999999999999995, 0.03300000000000003]\n",
        "val_errors_4 = [0.038000000000000034, 0.03700000000000003, 0.06599999999999995, 0.06799999999999995, 0.11499999999999999, 0.06599999999999995, 0.03700000000000003, 0.07099999999999995, 0.03700000000000003, 0.03700000000000003, 0.07399999999999995, 0.03700000000000003, 0.03700000000000003]\n",
        "\n",
        "avg_=[]\n",
        "\n",
        "for a,b,c,d in zip(val_errors_1,val_errors_2,val_errors_3,val_errors_4):\n",
        "    x=(a+b+c+d)/4\n",
        "    avg_.append(x)\n"
      ]
    },
    {
      "cell_type": "code",
      "execution_count": null,
      "id": "36d36c3e",
      "metadata": {
        "id": "36d36c3e"
      },
      "outputs": [],
      "source": [
        "dict_leastval=sorted(list(zip(c_values,avg_)),key=lambda x: x[1])"
      ]
    },
    {
      "cell_type": "markdown",
      "id": "f0f30e36",
      "metadata": {
        "id": "f0f30e36"
      },
      "source": [
        "The best value of C is 0.125."
      ]
    },
    {
      "cell_type": "code",
      "execution_count": null,
      "id": "da5d5431",
      "metadata": {
        "id": "da5d5431"
      },
      "outputs": [],
      "source": [
        "logCValues = []\n",
        "for c in c_values:\n",
        "    logC = math.log(c,2)\n",
        "    logCValues.append(logC)"
      ]
    },
    {
      "cell_type": "code",
      "execution_count": null,
      "id": "6e73cb0f",
      "metadata": {
        "id": "6e73cb0f",
        "outputId": "ab1a704b-e97c-4296-dd46-a28e28c748e1"
      },
      "outputs": [
        {
          "data": {
            "text/plain": [
              "[-3.0, -2.0, -1.0, 0.0, 1.0, 2.0, 3.0, 4.0, 5.0, 6.0, 7.0, 8.0, 9.0]"
            ]
          },
          "execution_count": 43,
          "metadata": {},
          "output_type": "execute_result"
        }
      ],
      "source": [
        "logCValues"
      ]
    },
    {
      "cell_type": "code",
      "execution_count": null,
      "id": "5ca9dc91",
      "metadata": {
        "scrolled": true,
        "id": "5ca9dc91",
        "outputId": "4f6f8ce8-5063-41af-b7b4-2f0641bcf5ce"
      },
      "outputs": [
        {
          "data": {
            "image/png": "[encoded data removed]",
            "text/plain": [
              "<Figure size 432x288 with 1 Axes>"
            ]
          },
          "metadata": {
            "needs_background": "light"
          },
          "output_type": "display_data"
        },
        {
          "data": {
            "image/png": "[encoded data removed]",
            "text/plain": [
              "<Figure size 432x288 with 1 Axes>"
            ]
          },
          "metadata": {
            "needs_background": "light"
          },
          "output_type": "display_data"
        },
        {
          "data": {
            "image/png": "[encoded data removed]",
            "text/plain": [
              "<Figure size 432x288 with 1 Axes>"
            ]
          },
          "metadata": {
            "needs_background": "light"
          },
          "output_type": "display_data"
        },
        {
          "data": {
            "image/png": "[encoded data removed]",
            "text/plain": [
              "<Figure size 432x288 with 1 Axes>"
            ]
          },
          "metadata": {
            "needs_background": "light"
          },
          "output_type": "display_data"
        }
      ],
      "source": [
        "#Graphs for train and validation errors with log C_values\n",
        "\n",
        "import matplotlib.pyplot as plt\n",
        "train_errors_1 = [0.0003333333333332966, 0.0, 0.0, 0.0, 0.013000000000000012, 0.014666666666666717, 0.0, 0.0, 0.0, 0.0, 0.0, 0.0, 0.0]\n",
        "train_errors_2 = [0.017000000000000015, 0.016000000000000014, 0.0003333333333332966, 0.017000000000000015, 0.0, 0.0, 0.0, 0.01633333333333331, 0.0, 0.03533333333333333, 0.013666666666666716, 0.0, 0.01533333333333331]\n",
        "train_errors_3 = [0.0010000000000000009, 0.03400000000000003, 0.012333333333333307, 0.0, 0.016000000000000014, 0.01666666666666672, 0.01666666666666672, 0.0, 0.01666666666666672, 0.018000000000000016, 0.018000000000000016, 0.012333333333333307, 0.0]\n",
        "train_errors_4 = [0.0003333333333332966, 0.01733333333333331, 0.0, 0.0, 0.01533333333333331, 0.0, 0.015000000000000013, 0.031333333333333324, 0.0, 0.0, 0.01533333333333331, 0.0, 0.0]\n",
        "\n",
        "\n",
        "plt. plot(logCValues, train_errors_1, label = \"line 1\")\n",
        "plt. plot(logCValues, val_errors_1, label = \"line 2\")\n",
        "plt. xlabel('LogCValues')\n",
        "plt.show()\n",
        "\n",
        "plt. plot(logCValues, train_errors_2, label = \"line 1\")\n",
        "plt. plot(logCValues, val_errors_2, label = \"line 2\")\n",
        "plt. xlabel('LogCValues')\n",
        "plt.show()\n",
        "\n",
        "plt. plot(logCValues, train_errors_3, label = \"line 1\")\n",
        "plt. plot(logCValues, val_errors_3, label = \"line 2\")\n",
        "plt. xlabel('LogCValues')\n",
        "plt.show()\n",
        "\n",
        "plt. plot(logCValues, train_errors_4, label = \"line 1\")\n",
        "plt. plot(logCValues, val_errors_4, label = \"line 2\")\n",
        "plt. xlabel('LogCValues')\n",
        "plt.show()\n",
        "\n",
        "# ax.plot(logCValues, train_errors_1)\n",
        "# ax.plot(logCValues, val_errors_1)\n",
        "# plt.show()"
      ]
    },
    {
      "cell_type": "markdown",
      "id": "e928d646",
      "metadata": {
        "id": "e928d646"
      },
      "source": [
        "4. With the best C value chosen from part (b), learn four soft-margin classifiers again on the entire training set. (Note that your classifiers from part (b) used only 75% of the training set for learning, holding out 25% for validation) Test your newly learned best classifiers on the test set similar to part (a) where the output label is determined by the argmax class given in the formula in part (a). Compare the test error rates to hard-margin classifiers on part (a). Which classifier works better? Justify your observation."
      ]
    },
    {
      "cell_type": "code",
      "execution_count": null,
      "id": "eec56c0a",
      "metadata": {
        "id": "eec56c0a"
      },
      "outputs": [],
      "source": [
        "#Best value was found to be 0.25\n",
        "\n",
        "def model_train_partd(data1,data2,i):\n",
        "  \n",
        "  model_11 = svm.SVC(kernel='linear', C=0.125)\n",
        "  data1=train_.drop('y_train',axis=1)\n",
        "  labels1=train_['y_train']\n",
        "  data2=test_.drop('y_test',axis=1)\n",
        "  labels2=test_['y_test']\n",
        "  labels1=pd.Series(labels1).apply(lambda x: 1 if x == i else -1)\n",
        "  model_11.fit(data1, labels1)\n",
        "  y_pred = model_11.predict(data2)\n",
        "  labels2=pd.Series(labels2).apply(lambda x: 1 if x == i else -1)\n",
        "  return metrics.accuracy_score(labels2,y_pred),model_11"
      ]
    },
    {
      "cell_type": "code",
      "execution_count": null,
      "id": "27e0171b",
      "metadata": {
        "id": "27e0171b",
        "outputId": "32c212ed-7279-43ed-d428-01b75df76bd9"
      },
      "outputs": [
        {
          "name": "stdout",
          "output_type": "stream",
          "text": [
            "\n",
            " Error for Model 1 0.03833333333333333\n",
            "\n",
            " Error for Model 2 0.053749999999999964\n",
            "\n",
            " Error for Model 3 0.0345833333333333\n",
            "\n",
            " Error for Model 4 0.05833333333333335\n"
          ]
        }
      ],
      "source": [
        "w_partd=[]  #Weights \n",
        "i_partd=[]  #Intercepts\n",
        "errors_partd=[]\n",
        "for i in [1,2,3,4]:\n",
        "    Acc_partd,model_11 = model_train_partd(train_,test_,i)\n",
        "    w_partd.append(model_11.coef_)\n",
        "    i_partd.append(model_11.intercept_)\n",
        "    errors_partd.append(1-Acc_partd)\n",
        "    print(f\"\\n Error for Model {i}\",1 - Acc_partd)"
      ]
    },
    {
      "cell_type": "code",
      "execution_count": null,
      "id": "976680bd",
      "metadata": {
        "id": "976680bd",
        "outputId": "1b4b6353-4110-48eb-f1b0-585543d04fe4"
      },
      "outputs": [
        {
          "data": {
            "text/plain": [
              "0.99975"
            ]
          },
          "execution_count": 47,
          "metadata": {},
          "output_type": "execute_result"
        }
      ],
      "source": [
        "#Accuracy\n",
        "h_val_train_partd=[]\n",
        "\n",
        "for i in range(4):\n",
        "    w=w_partd[i]\n",
        "    b=i_partd[i]\n",
        "    h=np.dot(w,train_.drop('y_train',axis=1).T)+b\n",
        "    h_val_train_partd.append(h)\n",
        "\n",
        "reshaped_h_train_partd=np.array(h_val_train_partd).reshape(4,4000)\n",
        "argmax_val_train_partd=np.argmax(reshaped_h_train_partd,axis=0)\n",
        "print(metrics.accuracy_score(train_['y_train'],argmax_val_train_partd+1))"
      ]
    },
    {
      "cell_type": "code",
      "execution_count": null,
      "id": "f8cfb553",
      "metadata": {
        "scrolled": true,
        "id": "f8cfb553",
        "outputId": "5527726b-30d7-42ad-a4d4-da0f2ef1ffc6"
      },
      "outputs": [
        {
          "name": "stdout",
          "output_type": "stream",
          "text": [
            "Error after training weights and selecting best C value 0.08125000000000004\n"
          ]
        }
      ],
      "source": [
        "h_val_test_partd=[]\n",
        "\n",
        "for i in range(4):\n",
        "    w=w_partd[i]\n",
        "    b=i_partd[i]\n",
        "    h=np.dot(w,test_.drop('y_test',axis=1).T)+b\n",
        "    h_val_test_partd.append(h)\n",
        "    \n",
        "reshaped_h_test_partd=np.array(h_val_test_partd).reshape(4,2400)\n",
        "argmax_val_test_partd=np.argmax(reshaped_h_test_partd,axis=0)\n",
        "acc_1=metrics.accuracy_score(test_['y_test'],argmax_val_test_partd+1)\n",
        "print(\"Error after training weights and selecting best C value\", 1 - acc_1 )"
      ]
    },
    {
      "cell_type": "code",
      "execution_count": null,
      "id": "11358a7a",
      "metadata": {
        "id": "11358a7a",
        "outputId": "b0ab7b8f-4ad2-46d9-bb88-74bb46146b83"
      },
      "outputs": [
        {
          "data": {
            "text/plain": [
              "-0.015833333333333255"
            ]
          },
          "execution_count": 49,
          "metadata": {},
          "output_type": "execute_result"
        }
      ],
      "source": [
        "\n",
        "Diff_hm_sm=acc_-acc_1\n",
        "\n",
        "Diff_hm_sm"
      ]
    },
    {
      "cell_type": "markdown",
      "id": "0fe935e3",
      "metadata": {
        "id": "0fe935e3"
      },
      "source": [
        "The accuracy for Classifier with Soft margin works better. Error with Hard Margin was 0.0970833333333333 and with soft margin it is 0.08125000000000004.\n",
        "When the data set is linearly separable, we do not want to have misclassification, so it is better to use Soft Margin SVM because Hard Margin SVM is sensitive to outliers. "
      ]
    },
    {
      "cell_type": "markdown",
      "id": "54120670",
      "metadata": {
        "id": "54120670"
      },
      "source": [
        "5. For this problem, you will normalize feature vectors so that the feature vectors of each example have unit length. For each example x = (x1, x2, ..., xn), divide every component into kxk2 so that kxk2 = 1. Repeat the part (b) with normalized features and measure the test error rates again with newly picked C value. Compare the new test error to previous test error from soft-margin classifier without normalization, and explain why normalization makes a difference."
      ]
    },
    {
      "cell_type": "code",
      "execution_count": null,
      "id": "aa332c14",
      "metadata": {
        "id": "aa332c14"
      },
      "outputs": [],
      "source": [
        "train_norm = np.linalg.norm(train_.drop('y_train',axis=1), axis = 1)\n"
      ]
    },
    {
      "cell_type": "code",
      "execution_count": null,
      "id": "8ec1c913",
      "metadata": {
        "id": "8ec1c913"
      },
      "outputs": [],
      "source": [
        "train_normalized = train_.drop('y_train',axis=1)/train_norm[:,None]"
      ]
    },
    {
      "cell_type": "code",
      "execution_count": null,
      "id": "d6c86352",
      "metadata": {
        "id": "d6c86352"
      },
      "outputs": [],
      "source": [
        "test_norm=np.linalg.norm(test_.drop('y_test',axis=1), axis = 1)\n",
        "test_normalized = test_.drop('y_test',axis=1)/test_norm[:,None]"
      ]
    },
    {
      "cell_type": "code",
      "execution_count": null,
      "id": "8c378eb8",
      "metadata": {
        "id": "8c378eb8"
      },
      "outputs": [],
      "source": [
        "#Adding y_train to normalized dataframe\n",
        "train_normalized = pd.DataFrame(train_normalized)\n",
        "train_normalized['y_train']=y_train "
      ]
    },
    {
      "cell_type": "code",
      "execution_count": null,
      "id": "61e9e1ed",
      "metadata": {
        "id": "61e9e1ed"
      },
      "outputs": [],
      "source": [
        "test_normalized = pd.DataFrame(test_normalized)\n",
        "test_normalized['y_test']=y_test "
      ]
    },
    {
      "cell_type": "code",
      "execution_count": null,
      "id": "d62613ce",
      "metadata": {
        "id": "d62613ce"
      },
      "outputs": [],
      "source": [
        "train_parte=pd.DataFrame(train_normalized)\n",
        "test_parte=pd.DataFrame(test_normalized)"
      ]
    },
    {
      "cell_type": "code",
      "execution_count": null,
      "id": "f203044b",
      "metadata": {
        "id": "f203044b"
      },
      "outputs": [],
      "source": [
        "#C-values to train the normalized data \n",
        "\n",
        "c_values =[0.125, 0.25, 0.5, 1, 2, 4, 8, 16, 32, 64, 128, 256, 512]\n",
        "train_norm_errors_1 =[]\n",
        "val_norm_errors_1 = []\n",
        "\n",
        "#For each C value, learn four binary classifiers for only training data\n",
        "#For Model type where class 1 == 1, other classes are -1. \n",
        "\n",
        "for j in c_values:\n",
        "    Train_Acc_c_val,Val_Acc_c_val,model_1 = soft_margin(train_normalized,1,j) \n",
        "    train_norm_errors_1.append(1-Train_Acc_c_val)\n",
        "    val_norm_errors_1.append(1-Val_Acc_c_val)\n",
        "        "
      ]
    },
    {
      "cell_type": "code",
      "execution_count": null,
      "id": "0daa3a43",
      "metadata": {
        "id": "0daa3a43",
        "outputId": "a166ba80-178b-4920-92af-808cb2450cf6"
      },
      "outputs": [
        {
          "name": "stdout",
          "output_type": "stream",
          "text": [
            "Parte_model1 [0.07433333333333336, 0.030000000000000027, 0.013000000000000012, 0.005333333333333301, 0.0016666666666667052, 0.0, 0.0, 0.0, 0.0, 0.0, 0.0, 0.0, 0.0]\n",
            "Parte_model1_val [0.09699999999999998, 0.04200000000000004, 0.026000000000000023, 0.020000000000000018, 0.01200000000000001, 0.01200000000000001, 0.01200000000000001, 0.01200000000000001, 0.01200000000000001, 0.01200000000000001, 0.01200000000000001, 0.01200000000000001, 0.01200000000000001]\n"
          ]
        }
      ],
      "source": [
        "print('Parte_model1',train_norm_errors_1)\n",
        "print('Parte_model1_val',val_norm_errors_1)"
      ]
    },
    {
      "cell_type": "code",
      "execution_count": null,
      "id": "5e84d68c",
      "metadata": {
        "id": "5e84d68c"
      },
      "outputs": [],
      "source": [
        "c_values =[0.125, 0.25, 0.5, 1, 2, 4, 8, 16, 32, 64, 128, 256, 512]\n",
        "train_norm_errors_2 =[]\n",
        "val_norm_errors_2 = []\n",
        "\n",
        "#For each C value, learn four binary classifiers for only training data\n",
        "#For Model type where class 1 == 2, other classes are -1. \n",
        "\n",
        "for j in c_values:\n",
        "    Train_Acc_c_val,Val_Acc_c_val,model_1 = soft_margin(train_normalized,2,j) \n",
        "    train_norm_errors_2.append(1-Train_Acc_c_val)\n",
        "    val_norm_errors_2.append(1-Val_Acc_c_val)"
      ]
    },
    {
      "cell_type": "code",
      "execution_count": null,
      "id": "a4cad02a",
      "metadata": {
        "id": "a4cad02a",
        "outputId": "1230e5df-dbb8-4719-bc1a-b035c7b61d90"
      },
      "outputs": [
        {
          "name": "stdout",
          "output_type": "stream",
          "text": [
            "Parte_model2 [0.21833333333333338, 0.08899999999999997, 0.03500000000000003, 0.01866666666666672, 0.004666666666666708, 0.0013333333333332975, 0.0, 0.0, 0.0, 0.0, 0.0, 0.0, 0.0]\n",
            "Parte_model2_val [0.244, 0.131, 0.07599999999999996, 0.04800000000000004, 0.03400000000000003, 0.03200000000000003, 0.03300000000000003, 0.03300000000000003, 0.03300000000000003, 0.03300000000000003, 0.03300000000000003, 0.03300000000000003, 0.03300000000000003]\n"
          ]
        }
      ],
      "source": [
        "print('Parte_model2',train_norm_errors_2)\n",
        "print('Parte_model2_val',val_norm_errors_2)"
      ]
    },
    {
      "cell_type": "code",
      "execution_count": null,
      "id": "dc3b6345",
      "metadata": {
        "id": "dc3b6345"
      },
      "outputs": [],
      "source": [
        "c_values =[0.125, 0.25, 0.5, 1, 2, 4, 8, 16, 32, 64, 128, 256, 512]\n",
        "train_norm_errors_3 =[]\n",
        "val_norm_errors_3 = []\n",
        "\n",
        "#For each C value, learn four binary classifiers for only training data\n",
        "#For Model type where class 1 == 3, other classes are -1. \n",
        "\n",
        "for j in c_values:\n",
        "    Train_Acc_c_val,Val_Acc_c_val,model_1 = soft_margin(train_normalized,3,j) \n",
        "    train_norm_errors_3.append(1-Train_Acc_c_val)\n",
        "    val_norm_errors_3.append(1-Val_Acc_c_val)"
      ]
    },
    {
      "cell_type": "code",
      "execution_count": null,
      "id": "58806109",
      "metadata": {
        "id": "58806109"
      },
      "outputs": [],
      "source": [
        "print('Parte_model3',train_norm_errors_3)\n",
        "print('Parte_model3_val',val_norm_errors_3)"
      ]
    },
    {
      "cell_type": "code",
      "execution_count": null,
      "id": "6b0edf06",
      "metadata": {
        "id": "6b0edf06"
      },
      "outputs": [],
      "source": [
        "c_values =[0.125, 0.25, 0.5, 1, 2, 4, 8, 16, 32, 64, 128, 256, 512]\n",
        "train_norm_errors_4 =[]\n",
        "val_norm_errors_4 = []\n",
        "\n",
        "#For each C value, learn four binary classifiers for only training data\n",
        "#For Model type where class 1 == 4, other classes are -1. \n",
        "\n",
        "for j in c_values:\n",
        "    Train_Acc_c_val,Val_Acc_c_val,model_1 = soft_margin(train_normalized,4,j) \n",
        "    train_norm_errors_4.append(1-Train_Acc_c_val)\n",
        "    val_norm_errors_4.append(1-Val_Acc_c_val)"
      ]
    },
    {
      "cell_type": "code",
      "execution_count": null,
      "id": "2dc1c235",
      "metadata": {
        "id": "2dc1c235"
      },
      "outputs": [],
      "source": [
        "print('Parte_model4',train_norm_errors_4)\n",
        "print('Parte_model4_val',val_norm_errors_4)"
      ]
    },
    {
      "cell_type": "code",
      "execution_count": null,
      "id": "637fb57c",
      "metadata": {
        "id": "637fb57c"
      },
      "outputs": [],
      "source": [
        "#Selecting best c value for normalized data \n",
        "\n",
        "c_values =[0.125, 0.25, 0.5, 1, 2, 4, 8, 16, 32, 64, 128, 256, 512]\n",
        "\n",
        "avg_norm=[]\n",
        "\n",
        "for a,b,c,d in zip(val_norm_errors_1,val_norm_errors_2,val_norm_errors_3,val_norm_errors_4):\n",
        "    x=(a+b+c+d)/4\n",
        "    avg_norm.append(x)\n",
        "\n",
        "dict_leastval_norm=sorted(list(zip(c_values,avg_norm)),key=lambda x: x[1])"
      ]
    },
    {
      "cell_type": "code",
      "execution_count": null,
      "id": "b63306d1",
      "metadata": {
        "id": "b63306d1"
      },
      "outputs": [],
      "source": [
        "dict_leastval_norm"
      ]
    },
    {
      "cell_type": "code",
      "execution_count": null,
      "id": "576c2a26",
      "metadata": {
        "id": "576c2a26"
      },
      "outputs": [],
      "source": [
        "def model_train_parte(data1,data2,i):\n",
        "  \n",
        "  model_11 = svm.SVC(kernel='linear', C=8)\n",
        "  data1=data1.drop('y_train',axis=1)\n",
        "  labels1=train_['y_train']\n",
        "  data2=data2.drop('y_test',axis=1)\n",
        "  labels2=test_['y_test']\n",
        "  labels1=pd.Series(labels1).apply(lambda x: 1 if x == i else -1)\n",
        "  model_11.fit(data1, labels1)\n",
        "  y_pred = model_11.predict(data2)\n",
        "  labels2=pd.Series(labels2).apply(lambda x: 1 if x == i else -1)\n",
        "  return metrics.accuracy_score(labels2,y_pred),model_11"
      ]
    },
    {
      "cell_type": "code",
      "execution_count": null,
      "id": "6196cccc",
      "metadata": {
        "id": "6196cccc"
      },
      "outputs": [],
      "source": [
        "w_parte=[]  #Weights \n",
        "i_parte=[]  #Intercepts\n",
        "errors_parte=[]\n",
        "for i in [1,2,3,4]:\n",
        "    Accuracy,model_11 = model_train_parte(train_normalized,test_normalized,i)\n",
        "    w_parte.append(model_11.coef_)\n",
        "    i_parte.append(model_11.intercept_)\n",
        "    errors_parte.append(1-Accuracy)\n",
        "    print(f\"\\n Error for Model {i}\",1 - Accuracy)"
      ]
    },
    {
      "cell_type": "code",
      "execution_count": null,
      "id": "f068f5d7",
      "metadata": {
        "id": "f068f5d7"
      },
      "outputs": [],
      "source": [
        "h_val_train_parte=[]\n",
        "\n",
        "for i in range(4):\n",
        "    w=w_parte[i]\n",
        "    b=i_parte[i]\n",
        "    h=np.dot(w,train_normalized.drop('y_train',axis=1).T)+b\n",
        "    h_val_train_parte.append(h)\n",
        "\n",
        "reshaped_h_train_parte=np.array(h_val_train_parte).reshape(4,4000)\n",
        "argmax_val_train_parte=np.argmax(reshaped_h_train_parte,axis=0)\n",
        "metrics.accuracy_score(train_['y_train'],argmax_val_train_parte+1)"
      ]
    },
    {
      "cell_type": "code",
      "execution_count": null,
      "id": "6ebbdb87",
      "metadata": {
        "id": "6ebbdb87"
      },
      "outputs": [],
      "source": [
        "h_val_test_parte=[]\n",
        "\n",
        "for i in range(4):\n",
        "    w=w_parte[i]\n",
        "    b=i_parte[i]\n",
        "    h=np.dot(w,test_normalized.drop('y_test',axis=1).T)+b\n",
        "    h_val_test_parte.append(h)\n",
        "    \n",
        "reshaped_h_test_parte=np.array(h_val_test_parte).reshape(4,2400)\n",
        "argmax_val_test_parte=np.argmax(reshaped_h_test_parte,axis=0)\n",
        "acc_1=metrics.accuracy_score(test_['y_test'],argmax_val_test_parte+1)\n",
        "print(\"Error after normalizing data, training weights and selecting best C value\", 1 - acc_1 )"
      ]
    },
    {
      "cell_type": "markdown",
      "id": "c2f759e0",
      "metadata": {
        "id": "c2f759e0"
      },
      "source": [
        "Error after normalizing data, training weights and selecting best C value is 0.055. Which is better when compared to Hard margin and soft margin model which was built using original data. "
      ]
    },
    {
      "cell_type": "markdown",
      "id": "81f931a6",
      "metadata": {
        "id": "81f931a6"
      },
      "source": [
        "6. What you have done so far is one way to extend binary SVM to a multiclass classifier, which is called 1-vs-all. There is another way of called 1-vs-1, where you are supposed to train all 4C2 binary classifiers distinguishing between every pair of classes. Then for each test example, you will pick the (not necessarily unique) class that achieves the highest votes.\n",
        "Formally speaking, suppose that the binary classifier hij is trained by taking the examples from class i as positives and the examples from class j as negatives. 2 Then for each test example x, add one vote to class i if hij says x is in class i. Otherwise, add one vote to class j. Finally 1-vs-1 assigns x to the class with the maximum votes. Since vote is added by one each time, the maximum voted class is not necessarily unique.\n",
        "Compare the accuracy of 1-vs-1 to 1-vs-all. Accuracy should be measured fairly between two methods via using the normalized features as done the in part (e) and the best C parameters as done in the part (b)"
      ]
    },
    {
      "cell_type": "code",
      "execution_count": null,
      "id": "3a371b97",
      "metadata": {
        "id": "3a371b97"
      },
      "outputs": [],
      "source": [
        "#Filtering data based on classes.\n",
        "\n",
        "\n",
        "vals1 = [1, 2]\n",
        "data1=train_normalized[train_normalized.y_train.isin(vals1)]\n",
        "\n",
        "vals2 = [1, 3]\n",
        "data2=train_normalized[train_normalized.y_train.isin(vals2)]\n",
        "\n",
        "vals3 = [1, 4]\n",
        "data3=train_normalized[train_normalized.y_train.isin(vals3)]\n",
        "\n",
        "vals4 = [2, 3]\n",
        "data4=train_normalized[train_normalized.y_train.isin(vals4)]\n",
        "\n",
        "vals5 = [2, 4]\n",
        "data5=train_normalized[train_normalized.y_train.isin(vals5)]\n",
        "\n",
        "vals6 = [3, 4]\n",
        "data6=train_normalized[train_normalized.y_train.isin(vals6)]"
      ]
    },
    {
      "cell_type": "code",
      "execution_count": null,
      "id": "4d1cc305",
      "metadata": {
        "id": "4d1cc305"
      },
      "outputs": [],
      "source": [
        "def model_partf(data,i):\n",
        "    labels=data['y_train']\n",
        "    X_train, X_test, y_train, y_test=train_test_split(data.drop('y_train',axis=1), labels, test_size=0.25, random_state=0) \n",
        "    model_ = svm.SVC(kernel='linear', C=i) \n",
        "    model_.fit(X_train, y_train)\n",
        "    y_pred_train = model_.predict(X_train)\n",
        "    y_pred = model_.predict(X_test)\n",
        "\n",
        "    return metrics.accuracy_score(y_train,y_pred_train), metrics.accuracy_score(y_test,y_pred),model_"
      ]
    },
    {
      "cell_type": "code",
      "execution_count": null,
      "id": "578efdf2",
      "metadata": {
        "id": "578efdf2"
      },
      "outputs": [],
      "source": [
        "c_vals=[0.125, 0.25, 0.5, 1, 2, 4, 8, 16, 32, 64, 128, 256, 512]"
      ]
    },
    {
      "cell_type": "code",
      "execution_count": null,
      "id": "1f715f48",
      "metadata": {
        "id": "1f715f48"
      },
      "outputs": [],
      "source": [
        "c_vals=[0.125, 0.25, 0.5, 1, 2, 4, 8, 16, 32, 64, 128, 256, 512]\n",
        "\n",
        "data1_train_err=[]\n",
        "data1_val_err=[]\n",
        "  \n",
        "#For each C value, learn four binary classifiers for only training data\n",
        "#For Model type where class 1 and class 2 are considered for training.  \n",
        "\n",
        "for i in c_vals:\n",
        "    Train_Acc,Val_Acc,model_ = model_partf(data1,i) \n",
        "    data1_train_err.append(1-Train_Acc)\n",
        "    data1_val_err.append(1-Val_Acc)"
      ]
    },
    {
      "cell_type": "code",
      "execution_count": null,
      "id": "541f7f3a",
      "metadata": {
        "id": "541f7f3a"
      },
      "outputs": [],
      "source": [
        "print(data1_train_err)\n",
        "print(data1_val_err)"
      ]
    },
    {
      "cell_type": "code",
      "execution_count": null,
      "id": "de866437",
      "metadata": {
        "id": "de866437"
      },
      "outputs": [],
      "source": [
        "data2_train_err=[]\n",
        "data2_val_err=[]\n",
        "   \n",
        "#For each C value, learn four binary classifiers for only training data\n",
        "#For Model type where class 1 and class 3 are considered for training.  \n",
        "\n",
        "for i in c_vals:\n",
        "    Train_Acc,Val_Acc,model_ = model_partf(data2,i) \n",
        "    data2_train_err.append(1-Train_Acc)\n",
        "    data2_val_err.append(1-Val_Acc)\n",
        "    \n",
        "print(data2_train_err)\n",
        "print(data2_val_err)"
      ]
    },
    {
      "cell_type": "code",
      "execution_count": null,
      "id": "cb924700",
      "metadata": {
        "id": "cb924700"
      },
      "outputs": [],
      "source": [
        "data3_train_err=[]\n",
        "data3_val_err=[]\n",
        "   \n",
        "#For each C value, learn four binary classifiers for only training data\n",
        "#For Model type where class 1 and class 4 are considered for training.  \n",
        "\n",
        "for i in c_vals:\n",
        "    Train_Acc,Val_Acc,model_ = model_partf(data3,i) \n",
        "    data3_train_err.append(1-Train_Acc)\n",
        "    data3_val_err.append(1-Val_Acc)\n",
        "    \n",
        "print(data3_train_err)\n",
        "print(data3_val_err)"
      ]
    },
    {
      "cell_type": "code",
      "execution_count": null,
      "id": "e64dc4e8",
      "metadata": {
        "id": "e64dc4e8"
      },
      "outputs": [],
      "source": [
        "data4_train_err=[]\n",
        "data4_val_err=[]\n",
        "   \n",
        "#For each C value, learn four binary classifiers for only training data\n",
        "#For Model type where class 2 and class 3 are considered for training.  \n",
        "\n",
        "for i in c_vals:\n",
        "    Train_Acc,Val_Acc,model_ = model_partf(data4,i) \n",
        "    data4_train_err.append(1-Train_Acc)\n",
        "    data4_val_err.append(1-Val_Acc)\n",
        "    \n",
        "print(data4_train_err)\n",
        "print(data4_val_err)"
      ]
    },
    {
      "cell_type": "code",
      "execution_count": null,
      "id": "e33ebfc8",
      "metadata": {
        "id": "e33ebfc8"
      },
      "outputs": [],
      "source": [
        "data5_train_err=[]\n",
        "data5_val_err=[]\n",
        "   \n",
        "#For each C value, learn four binary classifiers for only training data\n",
        "#For Model type where class 2 and class 4 are considered for training.  \n",
        "\n",
        "for i in c_vals:\n",
        "    Train_Acc,Val_Acc,model_ = model_partf(data5,i) \n",
        "    data5_train_err.append(1-Train_Acc)\n",
        "    data5_val_err.append(1-Val_Acc)\n",
        "    \n",
        "print(data5_train_err)\n",
        "print(data5_val_err)"
      ]
    },
    {
      "cell_type": "code",
      "execution_count": null,
      "id": "c472cb70",
      "metadata": {
        "id": "c472cb70"
      },
      "outputs": [],
      "source": [
        "data6_train_err=[]\n",
        "data6_val_err=[]\n",
        "   \n",
        "#For each C value, learn four binary classifiers for only training data\n",
        "#For Model type where class 3 and class 4 are considered for training.  \n",
        "\n",
        "for i in c_vals:\n",
        "    Train_Acc,Val_Acc,model_ = model_partf(data6,i) \n",
        "    data6_train_err.append(1-Train_Acc)\n",
        "    data6_val_err.append(1-Val_Acc)\n",
        "    \n",
        "print(data6_train_err)\n",
        "print(data6_val_err)"
      ]
    },
    {
      "cell_type": "code",
      "execution_count": null,
      "id": "231f749f",
      "metadata": {
        "id": "231f749f"
      },
      "outputs": [],
      "source": [
        "c_values =[0.125, 0.25, 0.5, 1, 2, 4, 8, 16, 32, 64, 128, 256, 512]\n",
        "\n",
        "avg_partf=[]\n",
        "\n",
        "for a,b,c,d,e,f in zip(data1_val_err,data2_val_err,data3_val_err,data4_val_err,data5_val_err,data6_val_err):\n",
        "    x=(a+b+c+d+e+f)/6\n",
        "    avg_partf.append(x)\n",
        "\n",
        "dict_leastval_partf=sorted(list(zip(c_values,avg_partf)),key=lambda x: x[1])"
      ]
    },
    {
      "cell_type": "code",
      "execution_count": null,
      "id": "082bd970",
      "metadata": {
        "id": "082bd970"
      },
      "outputs": [],
      "source": [
        "dict_leastval_partf"
      ]
    },
    {
      "cell_type": "markdown",
      "id": "1bb4d9f4",
      "metadata": {
        "id": "1bb4d9f4"
      },
      "source": [
        "The best C-Value we got is 8. "
      ]
    },
    {
      "cell_type": "code",
      "execution_count": null,
      "id": "fcf324e6",
      "metadata": {
        "id": "fcf324e6"
      },
      "outputs": [],
      "source": [
        "def model_partf1(data,testdata):\n",
        "    labels=data['y_train']\n",
        "    model_ = svm.SVC(kernel='linear', C=8) \n",
        "    model_.fit(data.drop('y_train',axis=1), labels)\n",
        "    y_pred = model_.predict(testdata.drop('y_test',axis=1))\n",
        "\n",
        "    return metrics.accuracy_score(testdata['y_test'],y_pred),y_pred"
      ]
    },
    {
      "cell_type": "code",
      "execution_count": null,
      "id": "e95e0aea",
      "metadata": {
        "id": "e95e0aea"
      },
      "outputs": [],
      "source": [
        "#For classes 1 and 2\n",
        "\n",
        "data1_pred=[]\n",
        "\n",
        "acc,y_pred_data1=model_partf1(data1,test_normalized)\n",
        "data1_pred.append(y_pred_data1)\n"
      ]
    },
    {
      "cell_type": "code",
      "execution_count": null,
      "id": "1f6e3b5d",
      "metadata": {
        "id": "1f6e3b5d"
      },
      "outputs": [],
      "source": [
        "data1_pred[0].shape"
      ]
    },
    {
      "cell_type": "code",
      "execution_count": null,
      "id": "d83647f9",
      "metadata": {
        "id": "d83647f9"
      },
      "outputs": [],
      "source": [
        "#For classes 1 and 3\n",
        "\n",
        "acc,y_pred_data2=model_partf1(data2,test_normalized)\n",
        "data1_pred.append(y_pred_data2)\n",
        "\n",
        "data1_pred[1].shape"
      ]
    },
    {
      "cell_type": "code",
      "execution_count": null,
      "id": "80c8c7dd",
      "metadata": {
        "id": "80c8c7dd"
      },
      "outputs": [],
      "source": [
        "#For classes 1 and 4\n",
        "\n",
        "acc,y_pred_data3=model_partf1(data3,test_normalized)\n",
        "data1_pred.append(y_pred_data3)\n",
        "\n",
        "data1_pred[2].shape"
      ]
    },
    {
      "cell_type": "code",
      "execution_count": null,
      "id": "68133f1b",
      "metadata": {
        "id": "68133f1b"
      },
      "outputs": [],
      "source": [
        "#For classes 2 and 3\n",
        "\n",
        "acc,y_pred_data4=model_partf1(data4,test_normalized)\n",
        "data1_pred.append(y_pred_data4)\n",
        "\n",
        "data1_pred[3].shape"
      ]
    },
    {
      "cell_type": "code",
      "execution_count": null,
      "id": "6dc42e15",
      "metadata": {
        "id": "6dc42e15"
      },
      "outputs": [],
      "source": [
        "#For classes 2 and 4\n",
        "\n",
        "acc,y_pred_data5=model_partf1(data5,test_normalized)\n",
        "data1_pred.append(y_pred_data5)\n",
        "\n",
        "data1_pred[4].shape"
      ]
    },
    {
      "cell_type": "code",
      "execution_count": null,
      "id": "9418cf45",
      "metadata": {
        "id": "9418cf45"
      },
      "outputs": [],
      "source": [
        "#For classes 3 and 4\n",
        "\n",
        "acc,y_pred_data6=model_partf1(data6,test_normalized)\n",
        "data1_pred.append(y_pred_data6)\n",
        "\n",
        "data1_pred[5].shape"
      ]
    },
    {
      "cell_type": "code",
      "execution_count": null,
      "id": "4a06788d",
      "metadata": {
        "id": "4a06788d"
      },
      "outputs": [],
      "source": [
        "#Class with Highest votes \n",
        "\n",
        "np.argmax(np.array(data1_pred),axis=0)"
      ]
    },
    {
      "cell_type": "code",
      "execution_count": null,
      "id": "e9f510fb",
      "metadata": {
        "id": "e9f510fb"
      },
      "outputs": [],
      "source": [
        "def highest_votes(arr):\n",
        "    arr=list(arr)\n",
        "    return max(set(arr), key=arr.count)\n"
      ]
    },
    {
      "cell_type": "code",
      "execution_count": null,
      "id": "48bfafa4",
      "metadata": {
        "id": "48bfafa4"
      },
      "outputs": [],
      "source": [
        "pred_df = pd.concat([pd.Series(a) for a in data1_pred],axis=1)"
      ]
    },
    {
      "cell_type": "code",
      "execution_count": null,
      "id": "80eede87",
      "metadata": {
        "id": "80eede87"
      },
      "outputs": [],
      "source": [
        "pred_out = pred_df.apply(highest_votes,axis=1)"
      ]
    },
    {
      "cell_type": "code",
      "execution_count": null,
      "id": "390dd099",
      "metadata": {
        "id": "390dd099"
      },
      "outputs": [],
      "source": [
        "from sklearn.metrics import accuracy_score\n",
        "print(Accuracy, accuracy_score(y_test,pred_out)*100)"
      ]
    },
    {
      "cell_type": "markdown",
      "id": "d55e32c4",
      "metadata": {
        "id": "d55e32c4"
      },
      "source": [
        "Kernel has been interuppted as memory was getting full so we have added the output directly from the analysis therefore we have added the answer directly. Accuracy for is 93.2%.  "
      ]
    },
    {
      "cell_type": "markdown",
      "id": "ea000d58",
      "metadata": {
        "id": "ea000d58"
      },
      "source": [
        "7. Compare and contrast your results from part 6 with the corresponding implementations found in scikit-learn."
      ]
    },
    {
      "cell_type": "code",
      "execution_count": null,
      "id": "f1c2a296",
      "metadata": {
        "id": "f1c2a296"
      },
      "outputs": [],
      "source": [
        "clf = svm.SVC(decision_function_shape='ovo')\n",
        "clf_fit = clf.fit(train_normalized.drop('y_train',axis = 1), moddf_train_label)\n",
        "clf_predict = clf_fit.predict(test_normalized.drop('y_test',axis = 1))\n",
        "\n",
        "print(\"Normalized testing data using scikit-learn\",round(accuracy_score(moddf_test_label,clf_predict)))"
      ]
    },
    {
      "cell_type": "code",
      "execution_count": null,
      "id": "797afcab",
      "metadata": {
        "id": "797afcab"
      },
      "outputs": [],
      "source": [
        ""
      ]
    }
  ],
  "metadata": {
    "kernelspec": {
      "display_name": "Python 3 (ipykernel)",
      "language": "python",
      "name": "python3"
    },
    "language_info": {
      "codemirror_mode": {
        "name": "ipython",
        "version": 3
      },
      "file_extension": ".py",
      "mimetype": "text/x-python",
      "name": "python",
      "nbconvert_exporter": "python",
      "pygments_lexer": "ipython3",
      "version": "3.9.7"
    },
    "colab": {
      "name": "Binary SVM Model",
      "provenance": []
    }
  },
  "nbformat": 4,
  "nbformat_minor": 5
}